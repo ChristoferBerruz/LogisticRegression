{
 "cells": [
  {
   "cell_type": "markdown",
   "metadata": {},
   "source": [
    "# Regularized logistic regression\n",
    "Our dataset set represents whether microchips have passed a QA based on two tests. Hence the format of the dataset is test1, test2, Passed"
   ]
  },
  {
   "cell_type": "code",
   "execution_count": 34,
   "metadata": {},
   "outputs": [],
   "source": [
    "#Importing needed modules\n",
    "import numpy as np\n",
    "from pathlib import Path\n",
    "import matplotlib.pyplot as plt"
   ]
  },
  {
   "cell_type": "code",
   "execution_count": 35,
   "metadata": {},
   "outputs": [],
   "source": [
    "#Reading data from the file\n",
    "data_folder = Path(r'C:\\Users\\anast\\PycharmProjects\\ML\\machine-learning-ex2\\ex2')\n",
    "file = data_folder / 'ex2data2.txt'\n",
    "dataset = np.loadtxt(file, delimiter = ',')"
   ]
  },
  {
   "cell_type": "code",
   "execution_count": 36,
   "metadata": {},
   "outputs": [],
   "source": [
    "m, n = dataset.shape"
   ]
  },
  {
   "cell_type": "code",
   "execution_count": 37,
   "metadata": {},
   "outputs": [],
   "source": [
    "#Let's filer positives and negative values\n",
    "mask = dataset[:,n-1] == 1.0\n",
    "positives = dataset[mask, 0:2]\n",
    "negatives = dataset[~mask, 0:2]"
   ]
  },
  {
   "cell_type": "markdown",
   "metadata": {},
   "source": [
    "## Visualization"
   ]
  },
  {
   "cell_type": "code",
   "execution_count": 38,
   "metadata": {},
   "outputs": [
    {
     "data": {
      "text/plain": [
       "<matplotlib.legend.Legend at 0x1f0822f4e80>"
      ]
     },
     "execution_count": 38,
     "metadata": {},
     "output_type": "execute_result"
    },
    {
     "data": {
      "image/png": "[encoded data removed]",
      "text/plain": [
       "<Figure size 432x288 with 1 Axes>"
      ]
     },
     "metadata": {
      "needs_background": "light"
     },
     "output_type": "display_data"
    }
   ],
   "source": [
    "#Let's plot the  values\n",
    "%matplotlib inline\n",
    "plt.scatter(positives[:,0], positives[:,1], marker = 'x', label = 'Passed')\n",
    "plt.scatter(negatives[:,0], negatives[:,1], marker = 'o', label = 'Not passed')\n",
    "plt.xlabel('Microchip Test 1')\n",
    "plt.ylabel('Microchip Test 2')\n",
    "plt.legend()"
   ]
  },
  {
   "cell_type": "markdown",
   "metadata": {},
   "source": [
    "## Creating a bigger feature space to fit boundary decision"
   ]
  },
  {
   "cell_type": "markdown",
   "metadata": {},
   "source": [
    "Clearly, with only two features it is impossible to create a more complicated shape rather than a straight line passing through the dataset. Hence, we will create a 28 feature vector with the product of all polynomial term of features x1, x2 up to degree 6"
   ]
  },
  {
   "cell_type": "code",
   "execution_count": 39,
   "metadata": {},
   "outputs": [],
   "source": [
    "def mapFeature(X1, X2):\n",
    "    degree = 6\n",
    "    m = len(X1)\n",
    "    out = np.ones((m, 1))\n",
    "    for i in range(1, degree+1):\n",
    "        for j in range(0,i+1):\n",
    "            out = np.concatenate((out,np.multiply(np.power(X1, i-j), np.power(X2, j)).reshape(m,1)), axis=1)\n",
    "    return out"
   ]
  },
  {
   "cell_type": "code",
   "execution_count": 40,
   "metadata": {},
   "outputs": [],
   "source": [
    "X = mapFeature(dataset[:, 0], dataset[:, 1])\n",
    "y = dataset[:,2]"
   ]
  },
  {
   "cell_type": "code",
   "execution_count": 41,
   "metadata": {},
   "outputs": [
    {
     "data": {
      "text/plain": [
       "array([1.00000000e+00, 5.12670000e-02, 6.99560000e-01, 2.62830529e-03,\n",
       "       3.58643425e-02, 4.89384194e-01, 1.34745327e-04, 1.83865725e-03,\n",
       "       2.50892595e-02, 3.42353606e-01, 6.90798869e-06, 9.42624411e-05,\n",
       "       1.28625106e-03, 1.75514423e-02, 2.39496889e-01, 3.54151856e-07,\n",
       "       4.83255257e-06, 6.59422333e-05, 8.99809795e-04, 1.22782870e-02,\n",
       "       1.67542444e-01, 1.81563032e-08, 2.47750473e-07, 3.38066048e-06,\n",
       "       4.61305487e-05, 6.29470940e-04, 8.58939846e-03, 1.17205992e-01])"
      ]
     },
     "execution_count": 41,
     "metadata": {},
     "output_type": "execute_result"
    }
   ],
   "source": [
    "X[0, :]"
   ]
  },
  {
   "cell_type": "markdown",
   "metadata": {},
   "source": [
    "## Finding optimal values of $\\theta$ using Scipy optimization 'TNC'"
   ]
  },
  {
   "cell_type": "code",
   "execution_count": 81,
   "metadata": {},
   "outputs": [
    {
     "data": {
      "text/plain": [
       "<module 'LogisticRegression' from 'C:\\\\Users\\\\anast\\\\PycharmProjects\\\\ML\\\\EX2\\\\LogisticRegression.py'>"
      ]
     },
     "execution_count": 81,
     "metadata": {},
     "output_type": "execute_result"
    }
   ],
   "source": [
    "import LogisticRegression\n",
    "import importlib\n",
    "importlib.reload(LogisticRegression)"
   ]
  },
  {
   "cell_type": "code",
   "execution_count": 82,
   "metadata": {},
   "outputs": [],
   "source": [
    "from LogisticRegression import cost_function_Reg, gradient_Reg"
   ]
  },
  {
   "cell_type": "code",
   "execution_count": 80,
   "metadata": {},
   "outputs": [],
   "source": [
    "#Updating the feature space\n",
    "m, n = X.shape\n",
    "initial_theta = np.zeros(n)"
   ]
  },
  {
   "cell_type": "code",
   "execution_count": 83,
   "metadata": {},
   "outputs": [],
   "source": [
    "#A check to see that the methods work properly\n",
    "jval = cost_function_Reg(initial_theta, X, y, lamb)\n",
    "gradient = gradient_Reg(initial_theta, X, y, lamb)"
   ]
  },
  {
   "cell_type": "code",
   "execution_count": 84,
   "metadata": {},
   "outputs": [],
   "source": [
    "import scipy.optimize as op\n",
    "lamb = 1\n",
    "R = op.minimize(cost_function_Reg, initial_theta, args = (X,y, lamb), jac = gradient_Reg, method='TNC')"
   ]
  },
  {
   "cell_type": "code",
   "execution_count": 85,
   "metadata": {},
   "outputs": [
    {
     "data": {
      "text/plain": [
       "'Local minimum reached (|pg| ~= 0)'"
      ]
     },
     "execution_count": 85,
     "metadata": {},
     "output_type": "execute_result"
    }
   ],
   "source": [
    "R.message"
   ]
  },
  {
   "cell_type": "code",
   "execution_count": 86,
   "metadata": {},
   "outputs": [],
   "source": [
    "optimal_theta = R.x"
   ]
  },
  {
   "cell_type": "code",
   "execution_count": 87,
   "metadata": {},
   "outputs": [
    {
     "data": {
      "text/plain": [
       "28"
      ]
     },
     "execution_count": 87,
     "metadata": {},
     "output_type": "execute_result"
    }
   ],
   "source": [
    "len(optimal_theta)"
   ]
  },
  {
   "cell_type": "markdown",
   "metadata": {},
   "source": [
    "## Visualizing data with boundary plot "
   ]
  },
  {
   "cell_type": "markdown",
   "metadata": {},
   "source": [
    "Different values of $\\lambda$ will yield different values for $\\theta$. For $\\lambda = 0$, we assume no penalization so our training set will **overfit** the training set. For $\\lambda = 1$, the penalization is ***just right***. Finally, for $\\lambda = 100$ or any number too big, the penalization will be too much yielding $\\theta_{j} \\approx 0 $ for $i \\geq 1$ yielding to an **underfit**. Please re-compute optimization with different values of $\\lambda$ and run this section for visualization"
   ]
  },
  {
   "cell_type": "code",
   "execution_count": 124,
   "metadata": {},
   "outputs": [],
   "source": [
    "#Let's try to visualize the decision boundary\n",
    "importlib.reload(LogisticRegression)\n",
    "from LogisticRegression import plotDecisionBoundary"
   ]
  },
  {
   "cell_type": "code",
   "execution_count": 125,
   "metadata": {},
   "outputs": [
    {
     "data": {
      "image/png": "[encoded data removed]",
      "text/plain": [
       "<Figure size 432x288 with 1 Axes>"
      ]
     },
     "metadata": {
      "needs_background": "light"
     },
     "output_type": "display_data"
    }
   ],
   "source": [
    "plotDecisionBoundary(optimal_theta, X, y)"
   ]
  },
  {
   "cell_type": "code",
   "execution_count": null,
   "metadata": {},
   "outputs": [],
   "source": []
  }
 ],
 "metadata": {
  "kernelspec": {
   "display_name": "Python 3",
   "language": "python",
   "name": "python3"
  },
  "language_info": {
   "codemirror_mode": {
    "name": "ipython",
    "version": 3
   },
   "file_extension": ".py",
   "mimetype": "text/x-python",
   "name": "python",
   "nbconvert_exporter": "python",
   "pygments_lexer": "ipython3",
   "version": "3.7.3"
  }
 },
 "nbformat": 4,
 "nbformat_minor": 2
}
